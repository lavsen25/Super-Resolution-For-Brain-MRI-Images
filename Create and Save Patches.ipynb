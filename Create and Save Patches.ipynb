{
 "cells": [
  {
   "cell_type": "code",
   "execution_count": 1,
   "metadata": {},
   "outputs": [
    {
     "name": "stderr",
     "output_type": "stream",
     "text": [
      "Using TensorFlow backend.\n"
     ]
    }
   ],
   "source": [
    "import  os, time\n",
    "import numpy as np\n",
    "import nibabel as nib\n",
    "from sklearn.feature_extraction.image import extract_patches\n",
    "from keras.utils import np_utils\n"
   ]
  },
  {
   "cell_type": "code",
   "execution_count": 2,
   "metadata": {},
   "outputs": [],
   "source": [
    "if 'patches3D' not in os.listdir(os.curdir):\n",
    "        os.mkdir('patches3D')\n",
    "patch_size = 64\n",
    "extractionStep = 32"
   ]
  },
  {
   "cell_type": "markdown",
   "metadata": {},
   "source": [
    "<h1> Save High Resolution Train Image Patches"
   ]
  },
  {
   "cell_type": "code",
   "execution_count": null,
   "metadata": {},
   "outputs": [],
   "source": [
    "trainImgPath = 'MRIdataset/VSI/TrainingSet/'\n",
    "trainImgdir = os.listdir(trainImgPath)\n",
    "patchesTrainImgAll = np.empty(shape=[0, patch_size, patch_size, patch_size], dtype='float32')\n",
    "\n",
    "for trainImageName in trainImgdir:\n",
    "    start = time.time()\n",
    "    nameImgVol = trainImageName + '_t1.nii.gz'\n",
    "    pathImgVol = os.path.join(trainImgPath, trainImageName, nameImgVol)\n",
    "    print('Currently Processing')\n",
    "    print(pathImgVol)\n",
    "    print('-' * 60)\n",
    "    img = nib.load(pathImgVol)\n",
    "    imgData = img.get_fdata().transpose(1, 0, 2)\n",
    "    imgData = np.squeeze(imgData)\n",
    "    imgData *= 1.0/np.max(imgData)  \n",
    "    print (imgData.shape)\n",
    "\n",
    "    patchesReturnedImg=extract_patches(imgData, patch_shape=(patch_size, patch_size, patch_size), extraction_step=(extractionStep, extractionStep, extractionStep))    \n",
    "    x = []; y = []; z = []\n",
    "\n",
    "    for i in range(0, patchesReturnedImg.shape[0]):\n",
    "        for j in range(0, patchesReturnedImg.shape[1]):\n",
    "             for k in range(0, patchesReturnedImg.shape[2]):\n",
    "                    cubeSum = np.sum(patchesReturnedImg[i,j,k,patch_size-2:patch_size+2,patch_size-2:patch_size+2,patch_size-2:patch_size+2])\n",
    "                    if cubeSum > 0:\n",
    "                        x.append(i)\n",
    "                        y.append(j)\n",
    "                        z.append(k)\n",
    "\n",
    "    allImgPatches = patchesReturnedImg[x, y, z, :, :, :]\n",
    "    print (allImgPatches.shape)\n",
    "    patchesTrainImgAll = np.append(patchesTrainImgAll, allImgPatches, axis=0)\n",
    "\n",
    "    end = time.time()\n",
    "    print(\"Elapsed time in seconds: %g\" % (end - start))\n",
    "\n",
    "\n",
    "#patchesTrainImgAll = patchesTrainImgAll.astype('float32')\n",
    "patchesTrainImgAll = np.expand_dims(patchesTrainImgAll, axis=4)\n",
    "\n",
    "print (patchesTrainImgAll.shape)\n",
    "np.save('patches3D/patchesTrainImgHR.npy', patchesTrainImgAll)      \n",
    "del patchesTrainImgAll\n"
   ]
  },
  {
   "cell_type": "markdown",
   "metadata": {},
   "source": [
    "<h1> Save High Resolution Validation Image Patches"
   ]
  },
  {
   "cell_type": "code",
   "execution_count": null,
   "metadata": {},
   "outputs": [],
   "source": [
    "valImgPath = 'MRIdataset/VSI/ValidationSet/'\n",
    "valImgdir = os.listdir(valImgPath)\n",
    "patchesvalImgAll = np.empty(shape=[0, patch_size, patch_size, patch_size], dtype='float32')\n",
    "\n",
    "for valImageName in valImgdir:\n",
    "    start = time.time()\n",
    "    nameImgVol = valImageName + '_t1.nii.gz'\n",
    "    pathImgVol = os.path.join(valImgPath, valImageName, nameImgVol)\n",
    "    print('Currently Processing')\n",
    "    print(pathImgVol)\n",
    "    print('-' * 60)\n",
    "    img = nib.load(pathImgVol)\n",
    "    imgData = img.get_fdata().transpose(1, 0, 2)\n",
    "    imgData = np.squeeze(imgData)\n",
    "    imgData *= 1.0/np.max(imgData)  \n",
    "    print (imgData.shape)\n",
    "    patchesReturnedImg=extract_patches(imgData, patch_shape=(patch_size, patch_size, patch_size), extraction_step=(extractionStep, extractionStep, extractionStep))    \n",
    "    x = []; y = []; z = []\n",
    "\n",
    "    for i in range(0, patchesReturnedImg.shape[0]):\n",
    "        for j in range(0, patchesReturnedImg.shape[1]):\n",
    "             for k in range(0, patchesReturnedImg.shape[2]):\n",
    "                    cubeSum = np.sum(patchesReturnedImg[i,j,k,patch_size-2:patch_size+2,patch_size-2:patch_size+2,patch_size-2:patch_size+2])\n",
    "                    if cubeSum > 0:\n",
    "                        x.append(i)\n",
    "                        y.append(j)\n",
    "                        z.append(k)\n",
    "\n",
    "    allImgPatches = patchesReturnedImg[x, y, z, :, :, :]\n",
    "    print (allImgPatches.shape)\n",
    "    patchesvalImgAll = np.append(patchesvalImgAll, allImgPatches, axis=0)\n",
    "\n",
    "    end = time.time()\n",
    "    print(\"Elapsed time in seconds: %g\" % (end - start))\n",
    "\n",
    "\n",
    "#patchesvalImgAll = patchesvalImgAll.astype('float32')\n",
    "patchesvalImgAll = np.expand_dims(patchesvalImgAll, axis=4)\n",
    "print (patchesvalImgAll.shape)\n",
    "np.save('patches3D/patchesvalImgHR.npy', patchesvalImgAll)      \n",
    "del patchesvalImgAll\n"
   ]
  },
  {
   "cell_type": "code",
   "execution_count": null,
   "metadata": {},
   "outputs": [],
   "source": []
  },
  {
   "cell_type": "markdown",
   "metadata": {},
   "source": [
    "<h1> Create Low Resolution Train Image Patches"
   ]
  },
  {
   "cell_type": "code",
   "execution_count": 3,
   "metadata": {},
   "outputs": [],
   "source": [
    "# 50% Down Sampling by FFT\n",
    "def getLR(hr_data):\n",
    "    imgfft = np.fft.fftn(hr_data)\n",
    "    aftershift=np.fft.fftshift(imgfft)\n",
    "    aftershift[0:23,0:23,0:23] = 0\n",
    "    aftershift[40:64,40:64,40:64] = 0\n",
    "    imgifft = np.fft.ifftn(aftershift)\n",
    "    img_out = abs(imgifft)\n",
    "    img_out *= 1.0/np.max(img_out)  \n",
    "    return img_out"
   ]
  },
  {
   "cell_type": "code",
   "execution_count": 4,
   "metadata": {},
   "outputs": [
    {
     "name": "stdout",
     "output_type": "stream",
     "text": [
      "Currently Processing\n",
      "MRIdataset/VSI/TrainingSet/11\\11_t1.nii.gz\n",
      "------------------------------------------------------------\n",
      "(256, 240, 192)\n",
      "(210, 64, 64, 64)\n",
      "float64\n",
      "Elapsed time in seconds: 26.1473\n",
      "Currently Processing\n",
      "MRIdataset/VSI/TrainingSet/12\\12_t1.nii.gz\n",
      "------------------------------------------------------------\n",
      "(256, 240, 192)\n",
      "(210, 64, 64, 64)\n",
      "float64\n",
      "Elapsed time in seconds: 27.161\n",
      "Currently Processing\n",
      "MRIdataset/VSI/TrainingSet/14\\14_t1.nii.gz\n",
      "------------------------------------------------------------\n",
      "(256, 240, 192)\n",
      "(210, 64, 64, 64)\n",
      "float64\n",
      "Elapsed time in seconds: 27.0556\n",
      "Currently Processing\n",
      "MRIdataset/VSI/TrainingSet/15\\15_t1.nii.gz\n",
      "------------------------------------------------------------\n",
      "(256, 240, 192)\n",
      "(210, 64, 64, 64)\n",
      "float64\n",
      "Elapsed time in seconds: 27.1993\n",
      "Currently Processing\n",
      "MRIdataset/VSI/TrainingSet/2\\2_t1.nii.gz\n",
      "------------------------------------------------------------\n",
      "(256, 240, 192)\n",
      "(210, 64, 64, 64)\n",
      "float64\n",
      "Elapsed time in seconds: 27.0546\n",
      "Currently Processing\n",
      "MRIdataset/VSI/TrainingSet/4\\4_t1.nii.gz\n",
      "------------------------------------------------------------\n",
      "(256, 240, 192)\n",
      "(210, 64, 64, 64)\n",
      "float64\n",
      "Elapsed time in seconds: 27.6091\n",
      "Currently Processing\n",
      "MRIdataset/VSI/TrainingSet/5\\5_t1.nii.gz\n",
      "------------------------------------------------------------\n",
      "(256, 240, 192)\n",
      "(210, 64, 64, 64)\n",
      "float64\n",
      "Elapsed time in seconds: 27.9408\n",
      "Currently Processing\n",
      "MRIdataset/VSI/TrainingSet/6\\6_t1.nii.gz\n",
      "------------------------------------------------------------\n",
      "(256, 240, 192)\n",
      "(210, 64, 64, 64)\n",
      "float64\n",
      "Elapsed time in seconds: 29.0687\n",
      "Currently Processing\n",
      "MRIdataset/VSI/TrainingSet/7\\7_t1.nii.gz\n",
      "------------------------------------------------------------\n",
      "(256, 240, 192)\n",
      "(210, 64, 64, 64)\n",
      "float64\n",
      "Elapsed time in seconds: 29.8967\n",
      "Currently Processing\n",
      "MRIdataset/VSI/TrainingSet/8\\8_t1.nii.gz\n",
      "------------------------------------------------------------\n",
      "(256, 240, 192)\n",
      "(210, 64, 64, 64)\n",
      "float64\n",
      "Elapsed time in seconds: 29.3954\n",
      "(2100, 64, 64, 64, 1)\n"
     ]
    }
   ],
   "source": [
    "trainImgPath = 'MRIdataset/VSI/TrainingSet/'\n",
    "trainImgdir = os.listdir(trainImgPath)\n",
    "patchesTrainImgAll = np.empty(shape=[0, patch_size, patch_size, patch_size], dtype='float32')\n",
    "\n",
    "for trainImageName in trainImgdir:\n",
    "    start = time.time()\n",
    "    nameImgVol = trainImageName + '_t1.nii.gz'\n",
    "    pathImgVol = os.path.join(trainImgPath, trainImageName, nameImgVol)\n",
    "    print('Currently Processing')\n",
    "    print(pathImgVol)\n",
    "    print('-' * 60)\n",
    "    img = nib.load(pathImgVol)\n",
    "    imgData = img.get_fdata().transpose(1, 0, 2)\n",
    "    imgData = np.squeeze(imgData)\n",
    "    imgData *= 1.0/np.max(imgData)  \n",
    "    print (imgData.shape)\n",
    "    \n",
    "    patchesReturnedImg=extract_patches(imgData, patch_shape=(patch_size, patch_size, patch_size), extraction_step=(extractionStep, extractionStep, extractionStep))    \n",
    "    x = []; y = []; z = []\n",
    "\n",
    "    for i in range(0, patchesReturnedImg.shape[0]):\n",
    "        for j in range(0, patchesReturnedImg.shape[1]):\n",
    "             for k in range(0, patchesReturnedImg.shape[2]):\n",
    "                    cubeSum = np.sum(patchesReturnedImg[i,j,k,patch_size-2:patch_size+2,patch_size-2:patch_size+2,patch_size-2:patch_size+2])\n",
    "                    if cubeSum > 0:\n",
    "                        x.append(i)\n",
    "                        y.append(j)\n",
    "                        z.append(k)\n",
    "\n",
    "    allImgPatches = patchesReturnedImg[x, y, z, :, :, :]\n",
    "    \n",
    "   \n",
    "    patchesTrainImgLR = np.empty(shape=[0, patch_size, patch_size, patch_size], dtype='float32')\n",
    "    \n",
    "    \n",
    "    for ii in range (allImgPatches.shape[0]):\n",
    "        dataHR = allImgPatches[ii,:,:,:]\n",
    "        dataLR= getLR(dataHR)\n",
    "        dataLR=np.expand_dims(dataLR, axis=0)\n",
    "        patchesTrainImgLR = np.append(patchesTrainImgLR, dataLR, axis=0)  \n",
    "        \n",
    "    print (patchesTrainImgLR.shape)\n",
    "    print (patchesTrainImgLR.dtype)\n",
    "    patchesTrainImgAll = np.append(patchesTrainImgAll, patchesTrainImgLR, axis=0)\n",
    "\n",
    "    end = time.time()\n",
    "    print(\"Elapsed time in seconds: %g\" % (end - start))\n",
    "\n",
    "\n",
    "#patchesTrainImgAll = patchesTrainImgAll.astype('float32')\n",
    "patchesTrainImgAll = np.expand_dims(patchesTrainImgAll, axis=4)\n",
    "print (patchesTrainImgAll.shape)\n",
    "np.save('patches3D/patchesTrainImgLR.npy', patchesTrainImgAll)      \n",
    "del patchesTrainImgAll\n"
   ]
  },
  {
   "cell_type": "markdown",
   "metadata": {},
   "source": [
    "<h1> Create Low Resolution Validation Set"
   ]
  },
  {
   "cell_type": "code",
   "execution_count": 5,
   "metadata": {},
   "outputs": [
    {
     "name": "stdout",
     "output_type": "stream",
     "text": [
      "Currently Processing\n",
      "MRIdataset/VSI/ValidationSet/1\\1_t1.nii.gz\n",
      "------------------------------------------------------------\n",
      "(256, 240, 192)\n",
      "(210, 64, 64, 64)\n",
      "float64\n",
      "Elapsed time in seconds: 25.8978\n",
      "Currently Processing\n",
      "MRIdataset/VSI/ValidationSet/10\\10_t1.nii.gz\n",
      "------------------------------------------------------------\n",
      "(256, 240, 192)\n",
      "(210, 64, 64, 64)\n",
      "float64\n",
      "Elapsed time in seconds: 26.3299\n",
      "Currently Processing\n",
      "MRIdataset/VSI/ValidationSet/13\\13_t1.nii.gz\n",
      "------------------------------------------------------------\n",
      "(256, 240, 192)\n",
      "(210, 64, 64, 64)\n",
      "float64\n",
      "Elapsed time in seconds: 28.1943\n",
      "(630, 64, 64, 64, 1)\n"
     ]
    }
   ],
   "source": [
    "valImgPath = 'MRIdataset/VSI/ValidationSet/'\n",
    "valImgdir = os.listdir(valImgPath)\n",
    "patchesvalImgAll = np.empty(shape=[0, patch_size, patch_size, patch_size], dtype='float32')\n",
    "\n",
    "for valImageName in valImgdir:\n",
    "    start = time.time()\n",
    "    nameImgVol = valImageName + '_t1.nii.gz'\n",
    "    pathImgVol = os.path.join(valImgPath, valImageName, nameImgVol)\n",
    "    print('Currently Processing')\n",
    "    print(pathImgVol)\n",
    "    print('-' * 60)\n",
    "    img = nib.load(pathImgVol)\n",
    "    imgData = img.get_fdata().transpose(1, 0, 2)\n",
    "    imgData = np.squeeze(imgData)\n",
    "    imgData *= 1.0/np.max(imgData)  \n",
    "    print (imgData.shape)\n",
    "\n",
    "    patchesReturnedImg=extract_patches(imgData, patch_shape=(patch_size, patch_size, patch_size), extraction_step=(extractionStep, extractionStep, extractionStep))    \n",
    "    x = []; y = []; z = []\n",
    "\n",
    "    for i in range(0, patchesReturnedImg.shape[0]):\n",
    "        for j in range(0, patchesReturnedImg.shape[1]):\n",
    "             for k in range(0, patchesReturnedImg.shape[2]):\n",
    "                    cubeSum = np.sum(patchesReturnedImg[i,j,k,patch_size-2:patch_size+2,patch_size-2:patch_size+2,patch_size-2:patch_size+2])\n",
    "                    if cubeSum > 0:\n",
    "                        x.append(i)\n",
    "                        y.append(j)\n",
    "                        z.append(k)\n",
    "\n",
    "    allImgPatches = patchesReturnedImg[x, y, z, :, :, :]\n",
    "    \n",
    "   \n",
    "    patchesvalImgLR = np.empty(shape=[0, patch_size, patch_size, patch_size], dtype='float32')\n",
    "    \n",
    "    \n",
    "    for ii in range (allImgPatches.shape[0]):\n",
    "        dataHR = allImgPatches[ii,:,:,:]\n",
    "        dataLR= getLR(dataHR)\n",
    "        dataLR=np.expand_dims(dataLR, axis=0)\n",
    "        patchesvalImgLR = np.append(patchesvalImgLR, dataLR, axis=0)  \n",
    "        \n",
    "    print (patchesvalImgLR.shape)\n",
    "    print (patchesvalImgLR.dtype)\n",
    "    patchesvalImgAll = np.append(patchesvalImgAll, patchesvalImgLR, axis=0)\n",
    "\n",
    "    end = time.time()\n",
    "    print(\"Elapsed time in seconds: %g\" % (end - start))\n",
    "\n",
    "\n",
    "#patchesvalImgAll = patchesvalImgAll.astype('float32')\n",
    "patchesvalImgAll = np.expand_dims(patchesvalImgAll, axis=4)\n",
    "print (patchesvalImgAll.shape)\n",
    "np.save('patches3D/patchesvalImgLR.npy', patchesvalImgAll)      \n",
    "del patchesvalImgAll\n"
   ]
  },
  {
   "cell_type": "markdown",
   "metadata": {},
   "source": [
    "<h1> Visualize HR and LR Patches"
   ]
  },
  {
   "cell_type": "code",
   "execution_count": 6,
   "metadata": {},
   "outputs": [
    {
     "name": "stdout",
     "output_type": "stream",
     "text": [
      "(2100, 64, 64, 64, 1)\n",
      "float64\n",
      "float64\n",
      "1.0\n",
      "1.0\n"
     ]
    }
   ],
   "source": [
    "HRpatch = np.load('patches3D/patchesTrainImgHR.npy')\n",
    "LRpatch =  np.load('patches3D/patchesTrainImgLR.npy')\n",
    "print (HRpatch.shape)\n",
    "print (HRpatch.dtype)\n",
    "print (LRpatch.dtype)\n",
    "print (np.max(HRpatch))\n",
    "print (np.max(LRpatch))"
   ]
  },
  {
   "cell_type": "code",
   "execution_count": 7,
   "metadata": {},
   "outputs": [],
   "source": [
    "import matplotlib.pyplot as plt\n",
    "%matplotlib inline\n"
   ]
  },
  {
   "cell_type": "code",
   "execution_count": 8,
   "metadata": {},
   "outputs": [
    {
     "name": "stdout",
     "output_type": "stream",
     "text": [
      "(64, 64, 64)\n"
     ]
    },
    {
     "data": {
      "image/png": "[encoded data removed]",
      "text/plain": [
       "<Figure size 432x288 with 1 Axes>"
      ]
     },
     "metadata": {
      "needs_background": "light"
     },
     "output_type": "display_data"
    }
   ],
   "source": [
    "imageSliceHR = HRpatch[100,:,:,:,:]\n",
    "imageSliceHR = np.squeeze(imageSliceHR)\n",
    "print (imageSliceHR.shape)\n",
    "imgplot = plt.imshow(imageSliceHR[:,:,50], cmap='gray')\n"
   ]
  },
  {
   "cell_type": "code",
   "execution_count": 9,
   "metadata": {},
   "outputs": [
    {
     "name": "stdout",
     "output_type": "stream",
     "text": [
      "(64, 64, 64)\n"
     ]
    },
    {
     "data": {
      "image/png": "[encoded data removed]",
      "text/plain": [
       "<Figure size 432x288 with 1 Axes>"
      ]
     },
     "metadata": {
      "needs_background": "light"
     },
     "output_type": "display_data"
    }
   ],
   "source": [
    "imageSliceLR = LRpatch[100,:,:,:,:]\n",
    "imageSliceLR = np.squeeze(imageSliceLR)\n",
    "print (imageSliceLR.shape)\n",
    "imgplot = plt.imshow(imageSliceLR[:,:,50], cmap='gray')\n"
   ]
  },
  {
   "cell_type": "code",
   "execution_count": 13,
   "metadata": {},
   "outputs": [],
   "source": [
    "def psnr(y_true, y_pred):\n",
    "        \"\"\"\n",
    "    PSNR is Peek Signal to Noise Ratio, which is similar to mean squared error.\n",
    "    It can be calculated as\n",
    "    PSNR = 20 * log10(MAXp) - 10 * log10(MSE)\n",
    "    When providing an unscaled input, MAXp = 255. Therefore 20 * log10(255)== 48.1308036087.\n",
    "    However, since we are scaling our input, MAXp = 1. Therefore 20 * log10(1) = 0.\n",
    "    Thus we remove that component completely and only compute the remaining MSE component.\n",
    "    \"\"\"\n",
    "    assert y_true.shape == y_pred.shape, \"Cannot calculate PSNR. Input shapes not same.\" \\\n",
    "                                         \" y_true shape = %s, y_pred shape = %s\" % (str(y_true.shape),\n",
    "                                                                                   str(y_pred.shape))\n",
    "\n",
    "    return -10. * tf.math.log(np.mean(np.square(y_pred - y_true)))\n"
   ]
  },
  {
   "cell_type": "code",
   "execution_count": 16,
   "metadata": {},
   "outputs": [],
   "source": [
    "result= psnr(imageSliceHR, imageSliceLR)\n",
    "print (result)"
   ]
  },
  {
   "cell_type": "code",
   "execution_count": null,
   "metadata": {},
   "outputs": [],
   "source": []
  },
  {
   "cell_type": "code",
   "execution_count": null,
   "metadata": {},
   "outputs": [],
   "source": []
  }
 ],
 "metadata": {
  "kernelspec": {
   "display_name": "Python 3",
   "language": "python",
   "name": "python3"
  },
  "language_info": {
   "codemirror_mode": {
    "name": "ipython",
    "version": 3
   },
   "file_extension": ".py",
   "mimetype": "text/x-python",
   "name": "python",
   "nbconvert_exporter": "python",
   "pygments_lexer": "ipython3",
   "version": "3.6.7"
  }
 },
 "nbformat": 4,
 "nbformat_minor": 2
}
