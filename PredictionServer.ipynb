{
 "cells": [
  {
   "cell_type": "code",
   "execution_count": 1,
   "metadata": {},
   "outputs": [
    {
     "name": "stderr",
     "output_type": "stream",
     "text": [
      "Using TensorFlow backend.\n"
     ]
    }
   ],
   "source": [
    "import numpy as np\n",
    "from keras import backend as K\n",
    "from keras.engine import Input, Model\n",
    "from keras.layers import Conv3D, Activation, Concatenate\n",
    "from keras.optimizers import Adam\n",
    "from functools import partial\n",
    "import tensorflow as tf\n",
    "import os\n",
    "patch_size =64\n",
    "K.set_image_data_format(\"channels_last\")\n",
    "import matplotlib.pyplot as plt\n",
    "%matplotlib inline"
   ]
  },
  {
   "cell_type": "code",
   "execution_count": 2,
   "metadata": {},
   "outputs": [],
   "source": [
    "from tensorflow.python.framework import ops\n",
    "from tensorflow.python.ops import math_ops\n",
    "from tensorflow.python.ops import array_ops"
   ]
  },
  {
   "cell_type": "code",
   "execution_count": 3,
   "metadata": {},
   "outputs": [],
   "source": [
    "from keras.layers.advanced_activations import LeakyReLU\n",
    "class LeakyReLU(LeakyReLU):\n",
    "    def __init__(self, **kwargs):\n",
    "        self.__name__ = \"LeakyReLU\"\n",
    "        super(LeakyReLU, self).__init__(**kwargs)  \n",
    "\n",
    "\n",
    "def mean_sq_error(y_true, y_pred):\n",
    "    return K.mean(K.square(y_pred - y_true), axis=-1)\n",
    "\n",
    "def tf_psnrmain(y_true, y_pred):\n",
    "    return tf_psnr(y_true, y_pred, max_val=1.0, name=None)\n",
    "def tf_psnr(a, b, max_val, name=None):\n",
    "    \"\"\"Returns the Peak Signal-to-Noise Ratio between a and b.\n",
    "    This is intended to be used on signals (or images). Produces a PSNR value for\n",
    "    each image in batch.\n",
    "    The last three dimensions of input are expected to be [height, width, depth].\n",
    "    Example:\n",
    "    ```python\n",
    "    # Read images from file.\n",
    "    im1 = tf.decode_png('path/to/im1.png')\n",
    "    im2 = tf.decode_png('path/to/im2.png')\n",
    "    # Compute PSNR over tf.uint8 Tensors.\n",
    "    psnr1 = tf.image.psnr(im1, im2, max_val=255)\n",
    "    # Compute PSNR over tf.float32 Tensors.\n",
    "    im1 = tf.image.convert_image_dtype(im1, tf.float32)\n",
    "    im2 = tf.image.convert_image_dtype(im2, tf.float32)\n",
    "    psnr2 = tf.image.psnr(im1, im2, max_val=1.0)\n",
    "    # psnr1 and psnr2 both have type tf.float32 and are almost equal.\n",
    "    ```\n",
    "    Arguments:\n",
    "    a: First set of images.\n",
    "    b: Second set of images.\n",
    "    max_val: The dynamic range of the images (i.e., the difference between the\n",
    "    maximum the and minimum allowed values).\n",
    "    name: Namespace to embed the computation in.\n",
    "    Returns:\n",
    "    The scalar PSNR between a and b. The returned tensor has type `tf.float32`\n",
    "    and shape [batch_size, 1].\n",
    "    \"\"\"\n",
    "    with ops.name_scope(name, 'PSNR', [a, b]):\n",
    "    # Need to convert the images to float32.  Scale max_val accordingly so that\n",
    "    # PSNR is computed correctly.\n",
    "        max_val = math_ops.cast(max_val, a.dtype)\n",
    "#         max_val = convert_image_dtype(max_val, dtypes.float32)\n",
    "#         a = convert_image_dtype(a, dtypes.float32)\n",
    "#         b = convert_image_dtype(b, dtypes.float32)\n",
    "        mse = math_ops.reduce_mean(math_ops.squared_difference(a, b), [-4, -3, -2])\n",
    "        psnr_val = math_ops.subtract(\n",
    "        20 * math_ops.log(max_val) / math_ops.log(10.0),\n",
    "        np.float64(10 / np.log(10)) * math_ops.log(mse),\n",
    "        name='psnr')\n",
    "\n",
    "#         _, _, checks = _verify_compatible_image_shapes(a, b)\n",
    "#         with ops.control_dependencies(checks):\n",
    "        return array_ops.identity(psnr_val)\n",
    "        \n",
    "def DenseNet(patch_size=64, growth_rate=24):\n",
    "    n_channels=growth_rate\n",
    "    input_shape=(patch_size, patch_size, patch_size, 1)\n",
    "\n",
    "    inputs = Input(input_shape)\n",
    "    #Initial Convolution Layer\n",
    "    x = Conv3D(filters=2*growth_rate,  kernel_size=(3, 3, 3), padding='same', activation = LeakyReLU(alpha=0.1))(inputs)\n",
    "\n",
    "    no_layers = 4\n",
    "    for i in range(no_layers):\n",
    "        x_list = [x]\n",
    "        cb = Conv3D(filters=2*growth_rate,  kernel_size=(3, 3, 3), padding='same', activation = LeakyReLU(alpha=0.1))(x)\n",
    "        x_list.append(cb)\n",
    "        x = Concatenate(axis=-1)(x_list)\n",
    "        \n",
    "        n_channels += growth_rate\n",
    "        # for transititon layer\n",
    "        x = Conv3D( n_channels,kernel_size=(1, 1, 1), padding='same', activation = LeakyReLU(alpha=0.1)) (x)\n",
    "        \n",
    "\n",
    "    x = Conv3D( 1,kernel_size=(3, 3, 3), padding='same') (x)\n",
    "    model = Model(inputs=inputs, outputs=x)\n",
    "\n",
    "    adamOpt = Adam(lr=0.00001)\n",
    "    model.compile(loss='mean_squared_error', optimizer=adamOpt,metrics=[mean_sq_error, tf_psnrmain ])\n",
    "    model.summary(line_length=110)\n",
    "    return model"
   ]
  },
  {
   "cell_type": "code",
   "execution_count": 4,
   "metadata": {},
   "outputs": [
    {
     "name": "stderr",
     "output_type": "stream",
     "text": [
      "d:\\miniconda\\envs\\keraspy3\\lib\\site-packages\\keras\\activations.py:211: UserWarning: Do not pass a layer instance (such as LeakyReLU) as the activation argument of another layer. Instead, advanced activation layers should be used just like any other layer in a model.\n",
      "  identifier=identifier.__class__.__name__))\n"
     ]
    },
    {
     "name": "stdout",
     "output_type": "stream",
     "text": [
      "______________________________________________________________________________________________________________\n",
      "Layer (type)                        Output Shape            Param #      Connected to                         \n",
      "==============================================================================================================\n",
      "input_1 (InputLayer)                (None, 64, 64, 64, 1)   0                                                 \n",
      "______________________________________________________________________________________________________________\n",
      "conv3d_1 (Conv3D)                   (None, 64, 64, 64, 48)  1344         input_1[0][0]                        \n",
      "______________________________________________________________________________________________________________\n",
      "conv3d_2 (Conv3D)                   (None, 64, 64, 64, 48)  62256        conv3d_1[0][0]                       \n",
      "______________________________________________________________________________________________________________\n",
      "concatenate_1 (Concatenate)         (None, 64, 64, 64, 96)  0            conv3d_1[0][0]                       \n",
      "                                                                         conv3d_2[0][0]                       \n",
      "______________________________________________________________________________________________________________\n",
      "conv3d_3 (Conv3D)                   (None, 64, 64, 64, 48)  4656         concatenate_1[0][0]                  \n",
      "______________________________________________________________________________________________________________\n",
      "conv3d_4 (Conv3D)                   (None, 64, 64, 64, 48)  62256        conv3d_3[0][0]                       \n",
      "______________________________________________________________________________________________________________\n",
      "concatenate_2 (Concatenate)         (None, 64, 64, 64, 96)  0            conv3d_3[0][0]                       \n",
      "                                                                         conv3d_4[0][0]                       \n",
      "______________________________________________________________________________________________________________\n",
      "conv3d_5 (Conv3D)                   (None, 64, 64, 64, 72)  6984         concatenate_2[0][0]                  \n",
      "______________________________________________________________________________________________________________\n",
      "conv3d_6 (Conv3D)                   (None, 64, 64, 64, 48)  93360        conv3d_5[0][0]                       \n",
      "______________________________________________________________________________________________________________\n",
      "concatenate_3 (Concatenate)         (None, 64, 64, 64, 120) 0            conv3d_5[0][0]                       \n",
      "                                                                         conv3d_6[0][0]                       \n",
      "______________________________________________________________________________________________________________\n",
      "conv3d_7 (Conv3D)                   (None, 64, 64, 64, 96)  11616        concatenate_3[0][0]                  \n",
      "______________________________________________________________________________________________________________\n",
      "conv3d_8 (Conv3D)                   (None, 64, 64, 64, 48)  124464       conv3d_7[0][0]                       \n",
      "______________________________________________________________________________________________________________\n",
      "concatenate_4 (Concatenate)         (None, 64, 64, 64, 144) 0            conv3d_7[0][0]                       \n",
      "                                                                         conv3d_8[0][0]                       \n",
      "______________________________________________________________________________________________________________\n",
      "conv3d_9 (Conv3D)                   (None, 64, 64, 64, 120) 17400        concatenate_4[0][0]                  \n",
      "______________________________________________________________________________________________________________\n",
      "conv3d_10 (Conv3D)                  (None, 64, 64, 64, 1)   3241         conv3d_9[0][0]                       \n",
      "==============================================================================================================\n",
      "Total params: 387,577\n",
      "Trainable params: 387,577\n",
      "Non-trainable params: 0\n",
      "______________________________________________________________________________________________________________\n"
     ]
    }
   ],
   "source": [
    "model = DenseNet(patch_size=64, growth_rate=24)"
   ]
  },
  {
   "cell_type": "markdown",
   "metadata": {},
   "source": [
    "<h1> Prediction for Patches"
   ]
  },
  {
   "cell_type": "code",
   "execution_count": 5,
   "metadata": {},
   "outputs": [],
   "source": [
    "valImgLR = np.load('patches3D/patchesStandardized/patchesvalImgLR.npy')"
   ]
  },
  {
   "cell_type": "code",
   "execution_count": 6,
   "metadata": {},
   "outputs": [],
   "source": [
    "checkpoint_filename = 'model-019.h5'\n",
    "checkpoint_filepath = 'outputServer/' + checkpoint_filename\n",
    "model.load_weights(checkpoint_filepath, reshape=True)\n"
   ]
  },
  {
   "cell_type": "code",
   "execution_count": 7,
   "metadata": {},
   "outputs": [
    {
     "data": {
      "text/plain": [
       "(630, 64, 64, 64, 1)"
      ]
     },
     "execution_count": 7,
     "metadata": {},
     "output_type": "execute_result"
    }
   ],
   "source": [
    "patchesPredicted = model.predict(valImgLR, batch_size=1)\n",
    "patchesPredicted.shape"
   ]
  },
  {
   "cell_type": "code",
   "execution_count": 8,
   "metadata": {},
   "outputs": [
    {
     "data": {
      "text/plain": [
       "(64, 64, 64)"
      ]
     },
     "execution_count": 8,
     "metadata": {},
     "output_type": "execute_result"
    }
   ],
   "source": [
    "predictionVol = patchesPredicted[10,:,:,:,:]\n",
    "predictionVol = np.squeeze(predictionVol)\n",
    "predictionVol.shape"
   ]
  },
  {
   "cell_type": "code",
   "execution_count": 9,
   "metadata": {},
   "outputs": [
    {
     "name": "stdout",
     "output_type": "stream",
     "text": [
      "(64, 64)\n"
     ]
    },
    {
     "name": "stderr",
     "output_type": "stream",
     "text": [
      "d:\\miniconda\\envs\\keraspy3\\lib\\site-packages\\ipykernel_launcher.py:5: DeprecationWarning: `imsave` is deprecated!\n",
      "`imsave` is deprecated in SciPy 1.0.0, and will be removed in 1.2.0.\n",
      "Use ``imageio.imwrite`` instead.\n",
      "  \"\"\"\n"
     ]
    },
    {
     "data": {
      "image/png": "[encoded data removed]",
      "text/plain": [
       "<Figure size 432x288 with 1 Axes>"
      ]
     },
     "metadata": {
      "needs_background": "light"
     },
     "output_type": "display_data"
    }
   ],
   "source": [
    "import scipy.misc\n",
    "pred = predictionVol[60,:,:]\n",
    "print (pred.shape)\n",
    "imgplot = plt.imshow(pred, cmap='gray')\n",
    "scipy.misc.imsave('pred.png', pred)"
   ]
  },
  {
   "cell_type": "markdown",
   "metadata": {},
   "source": [
    "<h1> Load and Visualize LR Images"
   ]
  },
  {
   "cell_type": "code",
   "execution_count": 10,
   "metadata": {},
   "outputs": [
    {
     "data": {
      "text/plain": [
       "(64, 64, 64)"
      ]
     },
     "execution_count": 10,
     "metadata": {},
     "output_type": "execute_result"
    }
   ],
   "source": [
    "LRvol=valImgLR[10,:,:,:,:]\n",
    "LRvol = np.squeeze(LRvol)\n",
    "LRvol.shape\n"
   ]
  },
  {
   "cell_type": "code",
   "execution_count": 11,
   "metadata": {},
   "outputs": [
    {
     "name": "stdout",
     "output_type": "stream",
     "text": [
      "(64, 64)\n",
      "0.912281679959668\n"
     ]
    },
    {
     "name": "stderr",
     "output_type": "stream",
     "text": [
      "d:\\miniconda\\envs\\keraspy3\\lib\\site-packages\\ipykernel_launcher.py:5: DeprecationWarning: `imsave` is deprecated!\n",
      "`imsave` is deprecated in SciPy 1.0.0, and will be removed in 1.2.0.\n",
      "Use ``imageio.imwrite`` instead.\n",
      "  \"\"\"\n"
     ]
    },
    {
     "data": {
      "image/png": "[encoded data removed]",
      "text/plain": [
       "<Figure size 432x288 with 1 Axes>"
      ]
     },
     "metadata": {
      "needs_background": "light"
     },
     "output_type": "display_data"
    }
   ],
   "source": [
    "import scipy.misc\n",
    "LR = LRvol[60,:,:]\n",
    "print (LR.shape)\n",
    "imgplot = plt.imshow(LR, cmap='gray')\n",
    "scipy.misc.imsave('LR.png', LR)\n",
    "print (np.max(LR))"
   ]
  },
  {
   "cell_type": "markdown",
   "metadata": {},
   "source": [
    "<h1> Load and Visualize HR Images"
   ]
  },
  {
   "cell_type": "code",
   "execution_count": 12,
   "metadata": {},
   "outputs": [],
   "source": [
    "valImgHR = np.load('patches3D/patchesStandardized/patchesvalImgHR.npy')"
   ]
  },
  {
   "cell_type": "code",
   "execution_count": 13,
   "metadata": {},
   "outputs": [
    {
     "data": {
      "text/plain": [
       "(64, 64, 64)"
      ]
     },
     "execution_count": 13,
     "metadata": {},
     "output_type": "execute_result"
    }
   ],
   "source": [
    "HRVol = valImgHR[10,:,:,:,:]\n",
    "HRVol = np.squeeze(HRVol)\n",
    "HRVol.shape\n",
    "\n"
   ]
  },
  {
   "cell_type": "code",
   "execution_count": 14,
   "metadata": {},
   "outputs": [
    {
     "name": "stdout",
     "output_type": "stream",
     "text": [
      "(64, 64)\n"
     ]
    },
    {
     "name": "stderr",
     "output_type": "stream",
     "text": [
      "d:\\miniconda\\envs\\keraspy3\\lib\\site-packages\\ipykernel_launcher.py:4: DeprecationWarning: `imsave` is deprecated!\n",
      "`imsave` is deprecated in SciPy 1.0.0, and will be removed in 1.2.0.\n",
      "Use ``imageio.imwrite`` instead.\n",
      "  after removing the cwd from sys.path.\n"
     ]
    },
    {
     "data": {
      "image/png": "[encoded data removed]",
      "text/plain": [
       "<Figure size 432x288 with 1 Axes>"
      ]
     },
     "metadata": {
      "needs_background": "light"
     },
     "output_type": "display_data"
    }
   ],
   "source": [
    "HR = HRVol[60,:,:]\n",
    "print (HR.shape)\n",
    "imgplot = plt.imshow(HR, cmap='gray')\n",
    "scipy.misc.imsave('HR.png', HR)"
   ]
  },
  {
   "cell_type": "markdown",
   "metadata": {},
   "source": [
    "<h1> Compute Metrics"
   ]
  },
  {
   "cell_type": "code",
   "execution_count": 27,
   "metadata": {},
   "outputs": [],
   "source": [
    "def psnr_metric(y_true, y_pred):\n",
    "    return psnr_metric_test(y_true, y_pred, max_val=1.0, name=None)\n",
    "def psnr_metric_test(a, b, max_val, name=None):\n",
    "   \n",
    "    with ops.name_scope(name, 'PSNR', [a, b]):\n",
    "   \n",
    "        max_val = math_ops.cast(max_val, a.dtype)\n",
    "        mse = math_ops.reduce_mean(math_ops.squared_difference(a, b), [-3, -2, -1])\n",
    "        psnr_val = math_ops.subtract(\n",
    "        20 * math_ops.log(max_val) / math_ops.log(10.0),\n",
    "        np.float64(10 / np.log(10)) * math_ops.log(mse),\n",
    "        name='psnr')\n",
    "        return array_ops.identity(psnr_val)"
   ]
  },
  {
   "cell_type": "code",
   "execution_count": 42,
   "metadata": {},
   "outputs": [],
   "source": [
    "LRvol=valImgLR[40,:,:,:,:]\n",
    "# LRvol = np.squeeze(LRvol)\n",
    "predictionVol = patchesPredicted[40,:,:,:,:]\n",
    "# predictionVol = np.squeeze(predictionVol)\n",
    "HRVol = valImgHR[40,:,:,:,:]\n",
    "# HRVol = np.squeeze(HRVol)\n",
    "\n",
    "LRvol32=  LRvol\n",
    "LRvol32=LRvol32.astype('float32')\n",
    "HRVol32 = HRVol\n",
    "HRVol32=HRVol32.astype('float32')\n"
   ]
  },
  {
   "cell_type": "code",
   "execution_count": 37,
   "metadata": {},
   "outputs": [
    {
     "name": "stdout",
     "output_type": "stream",
     "text": [
      "20.368904\n",
      "35.47031\n",
      "19.676334\n"
     ]
    }
   ],
   "source": [
    "\n",
    "psnrHRandLR = psnr_metric(HRVol32,LRvol32)\n",
    "psnrHRandPred = psnr_metric(HRVol32, predictionVol)\n",
    "psnrLRandPred = psnr_metric(LRvol32, predictionVol)\n",
    "\n",
    "\n",
    "init_op = tf.initialize_all_variables()\n",
    "\n",
    "#run the graph\n",
    "with tf.Session() as sess:\n",
    "    sess.run(init_op) #execute init_op\n",
    "    #print the random values that we sample\n",
    "    print (sess.run(psnrHRandLR))\n",
    "    print (sess.run(psnrHRandPred))\n",
    "    print (sess.run(psnrLRandPred))"
   ]
  },
  {
   "cell_type": "code",
   "execution_count": 43,
   "metadata": {},
   "outputs": [],
   "source": [
    "def _tf_fspecial_gauss(size, sigma):\n",
    "    \"\"\"Function to mimic the 'fspecial' gaussian MATLAB function\n",
    "    \"\"\"\n",
    "    x_data, y_data = np.mgrid[-size//2 + 1:size//2 + 1, -size//2 + 1:size//2 + 1]\n",
    "\n",
    "    x_data = np.expand_dims(x_data, axis=-1)\n",
    "    x_data = np.expand_dims(x_data, axis=-1)\n",
    "\n",
    "    y_data = np.expand_dims(y_data, axis=-1)\n",
    "    y_data = np.expand_dims(y_data, axis=-1)\n",
    "\n",
    "    x = tf.constant(x_data, dtype=tf.float32)\n",
    "    y = tf.constant(y_data, dtype=tf.float32)\n",
    "\n",
    "    g = tf.exp(-((x**2 + y**2)/(2.0*sigma**2)))\n",
    "    return g / tf.reduce_sum(g)\n",
    "\n",
    "\n",
    "def tf_ssim(img1, img2, cs_map=False, mean_metric=True, size=11, sigma=1.5):\n",
    "    window = _tf_fspecial_gauss(size, sigma) # window shape [size, size]\n",
    "    K1 = 0.01\n",
    "    K2 = 0.03\n",
    "    L = 1  # depth of image (255 in case the image has a differnt scale)\n",
    "    C1 = (K1*L)**2\n",
    "    C2 = (K2*L)**2\n",
    "    mu1 = tf.nn.conv2d(img1, window, strides=[1,1,1,1], padding='VALID')\n",
    "    mu2 = tf.nn.conv2d(img2, window, strides=[1,1,1,1],padding='VALID')\n",
    "    mu1_sq = mu1*mu1\n",
    "    mu2_sq = mu2*mu2\n",
    "    mu1_mu2 = mu1*mu2\n",
    "    sigma1_sq = tf.nn.conv2d(img1*img1, window, strides=[1,1,1,1],padding='VALID') - mu1_sq\n",
    "    sigma2_sq = tf.nn.conv2d(img2*img2, window, strides=[1,1,1,1],padding='VALID') - mu2_sq\n",
    "    sigma12 = tf.nn.conv2d(img1*img2, window, strides=[1,1,1,1],padding='VALID') - mu1_mu2\n",
    "    if cs_map:\n",
    "        value = (((2*mu1_mu2 + C1)*(2*sigma12 + C2))/((mu1_sq + mu2_sq + C1)*\n",
    "                    (sigma1_sq + sigma2_sq + C2)),\n",
    "                (2.0*sigma12 + C2)/(sigma1_sq + sigma2_sq + C2))\n",
    "    else:\n",
    "        value = ((2*mu1_mu2 + C1)*(2*sigma12 + C2))/((mu1_sq + mu2_sq + C1)*\n",
    "                    (sigma1_sq + sigma2_sq + C2))\n",
    "\n",
    "    if mean_metric:\n",
    "        value = tf.reduce_mean(value)\n",
    "    return value"
   ]
  },
  {
   "cell_type": "code",
   "execution_count": 49,
   "metadata": {},
   "outputs": [],
   "source": [
    "ssim= tf_ssim(LRvol32, predictionVol)"
   ]
  },
  {
   "cell_type": "code",
   "execution_count": 50,
   "metadata": {},
   "outputs": [
    {
     "name": "stdout",
     "output_type": "stream",
     "text": [
      "0.7125363\n"
     ]
    }
   ],
   "source": [
    "init_op = tf.initialize_all_variables()\n",
    "\n",
    "#run the graph\n",
    "with tf.Session() as sess:\n",
    "    sess.run(init_op) #execute init_op\n",
    "    #print the random values that we sample\n",
    "    print (sess.run(ssim))\n",
    "  "
   ]
  },
  {
   "cell_type": "code",
   "execution_count": null,
   "metadata": {},
   "outputs": [],
   "source": []
  }
 ],
 "metadata": {
  "kernelspec": {
   "display_name": "Python 3",
   "language": "python",
   "name": "python3"
  },
  "language_info": {
   "codemirror_mode": {
    "name": "ipython",
    "version": 3
   },
   "file_extension": ".py",
   "mimetype": "text/x-python",
   "name": "python",
   "nbconvert_exporter": "python",
   "pygments_lexer": "ipython3",
   "version": "3.6.7"
  }
 },
 "nbformat": 4,
 "nbformat_minor": 2
}
